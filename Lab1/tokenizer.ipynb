{
 "cells": [
  {
   "cell_type": "code",
   "execution_count": 1,
   "id": "12727d48",
   "metadata": {},
   "outputs": [
    {
     "name": "stderr",
     "output_type": "stream",
     "text": [
      "c:\\Users\\acer\\AppData\\Local\\Programs\\Python\\Python313\\Lib\\site-packages\\tqdm\\auto.py:21: TqdmWarning: IProgress not found. Please update jupyter and ipywidgets. See https://ipywidgets.readthedocs.io/en/stable/user_install.html\n",
      "  from .autonotebook import tqdm as notebook_tqdm\n"
     ]
    },
    {
     "name": "stdout",
     "output_type": "stream",
     "text": [
      "Loading Hindi data...\n",
      "Loaded 50 text samples\n"
     ]
    }
   ],
   "source": [
    "from datasets import load_dataset\n",
    "import re\n",
    "import json\n",
    "from tqdm import tqdm\n",
    "\n",
    "# Simple language configuration - just the basics\n",
    "LANGUAGES = {\n",
    "    \"hin_Deva\": \"Hindi\",\n",
    "    \"mar_Deva\": \"Marathi\"\n",
    "}\n",
    "\n",
    "def load_data(language=\"hin_Deva\", num_samples=100):\n",
    "    \"\"\"Load text data for the specified language\"\"\"\n",
    "    print(f\"Loading {LANGUAGES[language]} data...\")\n",
    "    dataset = load_dataset(\"ai4bharat/IndicCorpV2\", \"indiccorp_v2\", split=language, streaming=True)\n",
    "    \n",
    "    texts = []\n",
    "    for i, sample in enumerate(dataset):\n",
    "        if i >= num_samples:\n",
    "            break\n",
    "        texts.append(sample['text'])\n",
    "    \n",
    "    print(f\"Loaded {len(texts)} text samples\")\n",
    "    return texts\n",
    "\n",
    "# Load Hindi data\n",
    "texts = load_data(\"hin_Deva\", 50)"
   ]
  },
  {
   "cell_type": "code",
   "execution_count": 2,
   "id": "cac86048",
   "metadata": {},
   "outputs": [
    {
     "name": "stdout",
     "output_type": "stream",
     "text": [
      "Tokenization functions ready\n"
     ]
    }
   ],
   "source": [
    "def sentence_tokenizer(text):\n",
    "    \"\"\"Simple sentence tokenizer\"\"\"\n",
    "    # Split on common sentence endings\n",
    "    sentences = re.split(r'[.!?।॥]\\s+', text.strip())\n",
    "    return [s.strip() for s in sentences if s.strip()]\n",
    "\n",
    "def word_tokenizer(sentence):\n",
    "    \"\"\"Simple word tokenizer for Indian languages\"\"\"\n",
    "    # Pattern for Indian language scripts and basic punctuation\n",
    "    pattern = r'[\\u0900-\\u097F\\u0980-\\u09FF\\u0A00-\\u0A7F\\u0A80-\\u0AFF\\u0B00-\\u0B7F\\u0B80-\\u0BFF\\u0C00-\\u0C7F\\u0C80-\\u0CFF\\u0D00-\\u0D7F\\u0600-\\u06FF]+|[a-zA-Z]+|\\d+|[^\\w\\s]'\n",
    "    return re.findall(pattern, sentence)\n",
    "\n",
    "print(\"Tokenization functions ready\")"
   ]
  },
  {
   "cell_type": "code",
   "execution_count": 3,
   "id": "61cca316",
   "metadata": {},
   "outputs": [
    {
     "name": "stderr",
     "output_type": "stream",
     "text": [
      "Tokenizing: 100%|██████████| 50/50 [00:00<00:00, 20532.13it/s]"
     ]
    },
    {
     "name": "stdout",
     "output_type": "stream",
     "text": [
      "Tokenized 25 paragraphs\n"
     ]
    },
    {
     "name": "stderr",
     "output_type": "stream",
     "text": [
      "\n"
     ]
    }
   ],
   "source": [
    "def tokenize_texts(texts):\n",
    "    \"\"\"Tokenize all texts into sentences and words\"\"\"\n",
    "    tokenized_data = []\n",
    "    \n",
    "    for text in tqdm(texts, desc=\"Tokenizing\"):\n",
    "        sentences = sentence_tokenizer(text)\n",
    "        tokenized_sentences = []\n",
    "        \n",
    "        for sentence in sentences:\n",
    "            words = word_tokenizer(sentence)\n",
    "            if words:  # Only add non-empty sentences\n",
    "                tokenized_sentences.append(words)\n",
    "        \n",
    "        if tokenized_sentences:  # Only add non-empty paragraphs\n",
    "            tokenized_data.append(tokenized_sentences)\n",
    "    \n",
    "    return tokenized_data\n",
    "\n",
    "# Tokenize the loaded texts\n",
    "tokenized_data = tokenize_texts(texts)\n",
    "print(f\"Tokenized {len(tokenized_data)} paragraphs\")"
   ]
  },
  {
   "cell_type": "code",
   "execution_count": 4,
   "id": "67b32606",
   "metadata": {},
   "outputs": [
    {
     "name": "stdout",
     "output_type": "stream",
     "text": [
      "Saved to 'tokenized_hindi_sentences.json'\n"
     ]
    }
   ],
   "source": [
    "def save_tokenized_data(data, filename=\"tokenized_sentences.json\"):\n",
    "    \"\"\"Save tokenized data as sentences\"\"\"\n",
    "    sentence_data = []\n",
    "    \n",
    "    for paragraph in data:\n",
    "        paragraph_sentences = []\n",
    "        for sentence_tokens in paragraph:\n",
    "            # Join tokens back into sentence\n",
    "            sentence_text = \" \".join(sentence_tokens)\n",
    "            paragraph_sentences.append(sentence_text)\n",
    "        sentence_data.append(paragraph_sentences)\n",
    "    \n",
    "    # Save to JSON\n",
    "    with open(filename, \"w\", encoding=\"utf-8\") as f:\n",
    "        json.dump(sentence_data, f, ensure_ascii=False, indent=2)\n",
    "    \n",
    "    print(f\"Saved to '{filename}'\")\n",
    "\n",
    "# Save the tokenized data\n",
    "save_tokenized_data(tokenized_data, \"tokenized_hindi_sentences.json\")"
   ]
  },
  {
   "cell_type": "code",
   "execution_count": 5,
   "id": "d0f90de9",
   "metadata": {},
   "outputs": [
    {
     "name": "stdout",
     "output_type": "stream",
     "text": [
      "=== STATISTICS ===\n",
      "Total Sentences: 63\n",
      "Total Words: 1310\n",
      "Unique Words: 661\n",
      "Average Sentence Length: 20.79 words\n",
      "Type-Token Ratio: 0.5046\n"
     ]
    }
   ],
   "source": [
    "def calculate_stats(tokenized_data):\n",
    "    \"\"\"Calculate basic statistics\"\"\"\n",
    "    total_sentences = 0\n",
    "    total_words = 0\n",
    "    all_words = []\n",
    "    \n",
    "    for paragraph in tokenized_data:\n",
    "        total_sentences += len(paragraph)\n",
    "        for sentence in paragraph:\n",
    "            total_words += len(sentence)\n",
    "            all_words.extend(sentence)\n",
    "    \n",
    "    unique_words = len(set(all_words))\n",
    "    avg_sentence_length = total_words / total_sentences if total_sentences > 0 else 0\n",
    "    type_token_ratio = unique_words / total_words if total_words > 0 else 0\n",
    "    \n",
    "    print(\"=== STATISTICS ===\")\n",
    "    print(f\"Total Sentences: {total_sentences}\")\n",
    "    print(f\"Total Words: {total_words}\")\n",
    "    print(f\"Unique Words: {unique_words}\")\n",
    "    print(f\"Average Sentence Length: {avg_sentence_length:.2f} words\")\n",
    "    print(f\"Type-Token Ratio: {type_token_ratio:.4f}\")\n",
    "\n",
    "# Calculate and display statistics\n",
    "calculate_stats(tokenized_data)"
   ]
  },
  {
   "cell_type": "code",
   "execution_count": 6,
   "id": "7bd7b71c",
   "metadata": {},
   "outputs": [
    {
     "name": "stdout",
     "output_type": "stream",
     "text": [
      "\n",
      "========================================\n",
      "Processing Marathi data...\n",
      "========================================\n",
      "Loading Marathi data...\n",
      "Loaded 25 text samples\n"
     ]
    },
    {
     "name": "stderr",
     "output_type": "stream",
     "text": [
      "Tokenizing: 100%|██████████| 25/25 [00:00<00:00, 40407.55it/s]"
     ]
    },
    {
     "name": "stdout",
     "output_type": "stream",
     "text": [
      "Saved to 'tokenized_marathi_sentences.json'\n",
      "=== STATISTICS ===\n",
      "Total Sentences: 33\n",
      "Total Words: 452\n",
      "Unique Words: 344\n",
      "Average Sentence Length: 13.70 words\n",
      "Type-Token Ratio: 0.7611\n"
     ]
    },
    {
     "name": "stderr",
     "output_type": "stream",
     "text": [
      "\n"
     ]
    }
   ],
   "source": [
    "# Example: Process Marathi data\n",
    "print(\"\\n\" + \"=\"*40)\n",
    "print(\"Processing Marathi data...\")\n",
    "print(\"=\"*40)\n",
    "\n",
    "marathi_texts = load_data(\"mar_Deva\", 25)\n",
    "marathi_tokenized = tokenize_texts(marathi_texts)\n",
    "save_tokenized_data(marathi_tokenized, \"tokenized_marathi_sentences.json\")\n",
    "calculate_stats(marathi_tokenized)"
   ]
  }
 ],
 "metadata": {
  "kernelspec": {
   "display_name": "Python 3",
   "language": "python",
   "name": "python3"
  },
  "language_info": {
   "codemirror_mode": {
    "name": "ipython",
    "version": 3
   },
   "file_extension": ".py",
   "mimetype": "text/x-python",
   "name": "python",
   "nbconvert_exporter": "python",
   "pygments_lexer": "ipython3",
   "version": "3.13.1"
  }
 },
 "nbformat": 4,
 "nbformat_minor": 5
}
