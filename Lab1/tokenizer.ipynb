{
 "cells": [
  {
   "cell_type": "code",
   "execution_count": 7,
   "id": "12727d48",
   "metadata": {},
   "outputs": [
    {
     "name": "stdout",
     "output_type": "stream",
     "text": [
      "Loading Hindi data...\n",
      "Loaded 25 text samples\n"
     ]
    }
   ],
   "source": [
    "from datasets import load_dataset\n",
    "import re\n",
    "import json\n",
    "from tqdm import tqdm\n",
    "\n",
    "# Simple language configuration - just the basics\n",
    "LANGUAGES = {\n",
    "    \"hin_Deva\": \"Hindi\",\n",
    "    \"mar_Deva\": \"Marathi\"\n",
    "}\n",
    "\n",
    "def load_data(language=\"hin_Deva\", num_samples=100):\n",
    "    \"\"\"Load text data for the specified language\"\"\"\n",
    "    print(f\"Loading {LANGUAGES[language]} data...\")\n",
    "    try:\n",
    "        dataset = load_dataset(\"ai4bharat/IndicCorpV2\", \"indiccorp_v2\", split=language, streaming=True)\n",
    "        \n",
    "        texts = []\n",
    "        for i, sample in enumerate(dataset):\n",
    "            if i >= num_samples:\n",
    "                break\n",
    "            if sample.get('text'):  # Validate text exists\n",
    "                texts.append(sample['text'])\n",
    "        \n",
    "        print(f\"Loaded {len(texts)} text samples\")\n",
    "        return texts\n",
    "    except Exception as e:\n",
    "        print(f\"Error loading data: {e}\")\n",
    "        return []\n",
    "\n",
    "# Load Hindi data\n",
    "texts = load_data(\"hin_Deva\", 50)"
   ]
  },
  {
   "cell_type": "code",
   "execution_count": 8,
   "id": "cac86048",
   "metadata": {},
   "outputs": [
    {
     "name": "stdout",
     "output_type": "stream",
     "text": [
      "Tokenization functions ready\n"
     ]
    }
   ],
   "source": [
    "def sentence_tokenizer(text):\n",
    "    \"\"\"Simple sentence tokenizer\"\"\"\n",
    "    if not text or not text.strip():\n",
    "        return []\n",
    "    \n",
    "    # Split on common sentence endings (including Devanagari punctuation)\n",
    "    sentences = re.split(r'[.!?।॥]\\s*', text.strip())\n",
    "    return [s.strip() for s in sentences if s.strip()]\n",
    "\n",
    "def word_tokenizer(sentence):\n",
    "    \"\"\"Enhanced word tokenizer for Indian languages with URL, email, date detection\"\"\"\n",
    "    if not sentence or not sentence.strip():\n",
    "        return []\n",
    "    \n",
    "    # Special patterns for structured data (most specific first)\n",
    "    patterns = [\n",
    "        r'https?://\\S+',           # URLs with http/https\n",
    "        r'www\\.\\S+',               # URLs with www\n",
    "        r'\\S+@\\S+\\.\\S+',          # Email addresses\n",
    "        r'\\b\\d{1,2}[-/\\.]\\d{1,2}[-/\\.]\\d{2,4}\\b',  # Dates\n",
    "        r'\\b\\d+(?:\\.\\d+)?\\b',      # Numbers (including decimals)\n",
    "        \n",
    "        # Indian language scripts (extended for conjuncts and diacritics)\n",
    "        r'[\\u0900-\\u097F]+',       # Devanagari (Hindi, Marathi, Sanskrit)\n",
    "        r'[\\u0A80-\\u0AFF]+',       # Gujarati\n",
    "        r'[\\u0980-\\u09FF]+',       # Bengali, Assamese\n",
    "        r'[\\u0B80-\\u0BFF]+',       # Tamil\n",
    "        r'[\\u0C00-\\u0C7F]+',       # Telugu\n",
    "        r'[\\u0C80-\\u0CFF]+',       # Kannada\n",
    "        r'[\\u0D00-\\u0D7F]+',       # Malayalam\n",
    "        r'[\\u0A00-\\u0A7F]+',       # Punjabi (Gurmukhi)\n",
    "        r'[\\u0B00-\\u0B7F]+',       # Odia\n",
    "        r'[\\u0600-\\u06FF]+',       # Arabic/Urdu\n",
    "        \n",
    "        r'[a-zA-Z]+',              # English words\n",
    "        r'[।॥!\"#$%&\\'()*+,\\-./:;<=>?@\\[\\\\\\]^_`{|}~]',  # Punctuation (individual)\n",
    "    ]\n",
    "    \n",
    "    # Combine all patterns\n",
    "    combined_pattern = '|'.join(f'({pattern})' for pattern in patterns)\n",
    "    \n",
    "    # Find all matches\n",
    "    matches = re.findall(combined_pattern, sentence)\n",
    "    \n",
    "    # Flatten the tuple results and filter out empty strings\n",
    "    tokens = []\n",
    "    for match in matches:\n",
    "        for group in match:\n",
    "            if group:  # Only add non-empty groups\n",
    "                tokens.append(group)\n",
    "    \n",
    "    return tokens\n",
    "\n",
    "print(\"Tokenization functions ready\")"
   ]
  },
  {
   "cell_type": "code",
   "execution_count": 9,
   "id": "61cca316",
   "metadata": {},
   "outputs": [
    {
     "name": "stderr",
     "output_type": "stream",
     "text": [
      "Tokenizing: 100%|██████████| 25/25 [00:00<00:00, 4866.46it/s]"
     ]
    },
    {
     "name": "stdout",
     "output_type": "stream",
     "text": [
      "Tokenized 25 paragraphs\n"
     ]
    },
    {
     "name": "stderr",
     "output_type": "stream",
     "text": [
      "\n"
     ]
    }
   ],
   "source": [
    "def tokenize_texts(texts):\n",
    "    \"\"\"Tokenize all texts into sentences and words\"\"\"\n",
    "    if not texts:\n",
    "        return []\n",
    "    \n",
    "    tokenized_data = []\n",
    "    \n",
    "    for text in tqdm(texts, desc=\"Tokenizing\"):\n",
    "        try:\n",
    "            sentences = sentence_tokenizer(text)\n",
    "            tokenized_sentences = []\n",
    "            \n",
    "            for sentence in sentences:\n",
    "                words = word_tokenizer(sentence)\n",
    "                if words:  # Only add non-empty sentences\n",
    "                    tokenized_sentences.append(words)\n",
    "            \n",
    "            if tokenized_sentences:  # Only add non-empty paragraphs\n",
    "                tokenized_data.append(tokenized_sentences)\n",
    "        except Exception as e:\n",
    "            print(f\"Error tokenizing text: {e}\")\n",
    "            continue\n",
    "    \n",
    "    return tokenized_data\n",
    "\n",
    "# Tokenize the loaded texts\n",
    "tokenized_data = tokenize_texts(texts)\n",
    "print(f\"Tokenized {len(tokenized_data)} paragraphs\")"
   ]
  },
  {
   "cell_type": "code",
   "execution_count": null,
   "id": "9c9b5939",
   "metadata": {},
   "outputs": [
    {
     "name": "stdout",
     "output_type": "stream",
     "text": [
      "Saved tokenized data to 'tokenized_hindi_tokens.json'\n",
      "Saved tokenized data to 'tokenized_marathi_tokens.json'\n"
     ]
    }
   ],
   "source": [
    "def save_tokenized_tokens(data, filename=\"tokenized_tokens.json\"):\n",
    "    \"\"\"Save tokenized data as individual tokens (preserving token structure)\"\"\"\n",
    "    if not data:\n",
    "        print(\"No data to save\")\n",
    "        return\n",
    "    \n",
    "    token_data = []\n",
    "    \n",
    "    for paragraph in data:\n",
    "        paragraph_tokens = []\n",
    "        for sentence_tokens in paragraph:\n",
    "            # Keep tokens as list instead of joining them\n",
    "            paragraph_tokens.append(sentence_tokens)\n",
    "        token_data.append(paragraph_tokens)\n",
    "    \n",
    "    # Save to JSON\n",
    "    try:\n",
    "        with open(filename, \"w\", encoding=\"utf-8\") as f:\n",
    "            json.dump(token_data, f, ensure_ascii=False, indent=2)\n",
    "        print(f\"Saved tokenized data to '{filename}'\")\n",
    "    except Exception as e:\n",
    "        print(f\"Error saving file: {e}\")\n",
    "\n",
    "# Save the tokenized data as tokens\n",
    "save_tokenized_tokens(tokenized_data, \"tokenized_hindi_tokens.json\")"
   ]
  },
  {
   "cell_type": "code",
   "execution_count": 11,
   "id": "67b32606",
   "metadata": {},
   "outputs": [],
   "source": [
    "# def save_tokenized_data(data, filename=\"tokenized_sentences.json\"):\n",
    "#     \"\"\"Save tokenized data as sentences\"\"\"\n",
    "#     if not data:\n",
    "#         print(\"No data to save\")\n",
    "#         return\n",
    "    \n",
    "#     sentence_data = []\n",
    "    \n",
    "#     for paragraph in data:\n",
    "#         paragraph_sentences = []\n",
    "#         for sentence_tokens in paragraph:\n",
    "#             # Join tokens back into sentence\n",
    "#             sentence_text = \" \".join(sentence_tokens)\n",
    "#             paragraph_sentences.append(sentence_text)\n",
    "#         sentence_data.append(paragraph_sentences)\n",
    "    \n",
    "#     # Save to JSON\n",
    "#     try:\n",
    "#         with open(filename, \"w\", encoding=\"utf-8\") as f:\n",
    "#             json.dump(sentence_data, f, ensure_ascii=False, indent=2)\n",
    "#         print(f\"Saved to '{filename}'\")\n",
    "#     except Exception as e:\n",
    "#         print(f\"Error saving file: {e}\")\n",
    "\n",
    "# # Save the tokenized data\n",
    "# save_tokenized_data(tokenized_data, \"tokenized_hindi_sentences.json\")"
   ]
  },
  {
   "cell_type": "code",
   "execution_count": 12,
   "id": "d0f90de9",
   "metadata": {},
   "outputs": [
    {
     "name": "stdout",
     "output_type": "stream",
     "text": [
      "=== STATISTICS ===\n",
      "Total Paragraphs: 25\n",
      "Total Sentences: 66\n",
      "Total Words: 1300\n",
      "Unique Words: 652\n",
      "Average Sentence Length: 19.70 words\n",
      "Type-Token Ratio: 0.5015\n",
      "\n",
      "Sample tokens: ['लोगों', 'को', 'बिलों', 'संबंधी', 'सुविधा', 'देना', 'ही', 'उनका', 'काम', 'इनेलो']\n"
     ]
    }
   ],
   "source": [
    "def calculate_stats(tokenized_data):\n",
    "    \"\"\"Calculate basic statistics\"\"\"\n",
    "    if not tokenized_data:\n",
    "        print(\"No data to analyze\")\n",
    "        return\n",
    "    \n",
    "    total_sentences = 0\n",
    "    total_words = 0\n",
    "    all_words = []\n",
    "    \n",
    "    for paragraph in tokenized_data:\n",
    "        total_sentences += len(paragraph)\n",
    "        for sentence in paragraph:\n",
    "            total_words += len(sentence)\n",
    "            all_words.extend(sentence)\n",
    "    \n",
    "    unique_words = len(set(all_words))\n",
    "    avg_sentence_length = total_words / total_sentences if total_sentences > 0 else 0\n",
    "    type_token_ratio = unique_words / total_words if total_words > 0 else 0\n",
    "    \n",
    "    print(\"=== STATISTICS ===\")\n",
    "    print(f\"Total Paragraphs: {len(tokenized_data)}\")\n",
    "    print(f\"Total Sentences: {total_sentences}\")\n",
    "    print(f\"Total Words: {total_words}\")\n",
    "    print(f\"Unique Words: {unique_words}\")\n",
    "    print(f\"Average Sentence Length: {avg_sentence_length:.2f} words\")\n",
    "    print(f\"Type-Token Ratio: {type_token_ratio:.4f}\")\n",
    "    \n",
    "    # Show some example tokens\n",
    "    if all_words:\n",
    "        print(f\"\\nSample tokens: {all_words[:10]}\")\n",
    "\n",
    "# Calculate and display statistics\n",
    "calculate_stats(tokenized_data)"
   ]
  },
  {
   "cell_type": "code",
   "execution_count": 13,
   "id": "7bd7b71c",
   "metadata": {},
   "outputs": [
    {
     "name": "stdout",
     "output_type": "stream",
     "text": [
      "\n",
      "========================================\n",
      "Processing Marathi data...\n",
      "========================================\n",
      "Loading Marathi data...\n",
      "Loaded 13 text samples\n"
     ]
    },
    {
     "name": "stderr",
     "output_type": "stream",
     "text": [
      "Tokenizing: 100%|██████████| 13/13 [00:00<00:00, 10532.35it/s]"
     ]
    },
    {
     "name": "stdout",
     "output_type": "stream",
     "text": [
      "Saved to 'tokenized_marathi_sentences.json'\n",
      "=== STATISTICS ===\n",
      "Total Paragraphs: 13\n",
      "Total Sentences: 39\n",
      "Total Words: 427\n",
      "Unique Words: 338\n",
      "Average Sentence Length: 10.95 words\n",
      "Type-Token Ratio: 0.7916\n",
      "\n",
      "Sample tokens: ['ऊती', 'संवर्धन', 'तंत्राचे', 'अनेक', 'उपयोग', 'आहेत', 'या', 'तंत्राचा', 'उपयोग', 'विशेषकरून']\n"
     ]
    },
    {
     "name": "stderr",
     "output_type": "stream",
     "text": [
      "\n"
     ]
    }
   ],
   "source": [
    "# Example: Process Marathi data\n",
    "print(\"\\n\" + \"=\"*40)\n",
    "print(\"Processing Marathi data...\")\n",
    "print(\"=\"*40)\n",
    "\n",
    "marathi_texts = load_data(\"mar_Deva\", 25)\n",
    "if marathi_texts:\n",
    "    marathi_tokenized = tokenize_texts(marathi_texts)\n",
    "    save_tokenized_data(marathi_tokenized, \"tokenized_marathi_sentences.json\")\n",
    "    calculate_stats(marathi_tokenized)\n",
    "else:\n",
    "    print(\"No Marathi data loaded\")"
   ]
  }
 ],
 "metadata": {
  "kernelspec": {
   "display_name": "Python 3",
   "language": "python",
   "name": "python3"
  },
  "language_info": {
   "codemirror_mode": {
    "name": "ipython",
    "version": 3
   },
   "file_extension": ".py",
   "mimetype": "text/x-python",
   "name": "python",
   "nbconvert_exporter": "python",
   "pygments_lexer": "ipython3",
   "version": "3.13.1"
  }
 },
 "nbformat": 4,
 "nbformat_minor": 5
}
